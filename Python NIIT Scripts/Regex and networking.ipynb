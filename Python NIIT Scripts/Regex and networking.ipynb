{
 "cells": [
  {
   "cell_type": "markdown",
   "id": "4a98eb25",
   "metadata": {},
   "source": [
    "# Regular Expression (Regex)"
   ]
  },
  {
   "cell_type": "code",
   "execution_count": null,
   "id": "009f9e67",
   "metadata": {},
   "outputs": [],
   "source": [
    "import re"
   ]
  },
  {
   "cell_type": "code",
   "execution_count": null,
   "id": "9828ff28",
   "metadata": {},
   "outputs": [],
   "source": [
    "statement = \"Hello from jack@niit.com to nelson@gmail.com about the meeting @4pm\"\n",
    "email = re.findall('^\\S+@niit.com$', statement)\n",
    "email"
   ]
  },
  {
   "cell_type": "code",
   "execution_count": null,
   "id": "df6e854f",
   "metadata": {},
   "outputs": [],
   "source": [
    "j = 'i\\'m cool'"
   ]
  },
  {
   "cell_type": "code",
   "execution_count": null,
   "id": "d3f2cce0",
   "metadata": {},
   "outputs": [],
   "source": []
  },
  {
   "cell_type": "code",
   "execution_count": 1,
   "id": "1232f1c9",
   "metadata": {},
   "outputs": [],
   "source": [
    "import socket"
   ]
  },
  {
   "cell_type": "code",
   "execution_count": 56,
   "id": "9fda5e8c",
   "metadata": {},
   "outputs": [],
   "source": [
    "mysock = socket.socket(socket.AF_INET, socket.SOCK_STREAM)\n",
    "mysock.connect(('www.py4inf.com',80))\n"
   ]
  },
  {
   "cell_type": "code",
   "execution_count": 57,
   "id": "08e27b6b",
   "metadata": {},
   "outputs": [
    {
     "data": {
      "text/plain": [
       "59"
      ]
     },
     "execution_count": 57,
     "metadata": {},
     "output_type": "execute_result"
    }
   ],
   "source": [
    "server = 'http://www.py4inf.com/code/romeo.txt'\n",
    "req = \"GET / HTTP/1.0\\nHost: \"+server+\"\\n\\n\"\n",
    "mysock.send(req.encode())"
   ]
  },
  {
   "cell_type": "code",
   "execution_count": 58,
   "id": "ce05c34a",
   "metadata": {},
   "outputs": [
    {
     "name": "stdout",
     "output_type": "stream",
     "text": [
      "b'GET / HTTP/1.0\\nHost: http://www.py4inf.com/code/romeo.txt\\n\\n'\n"
     ]
    }
   ],
   "source": [
    "print(req.encode())"
   ]
  },
  {
   "cell_type": "code",
   "execution_count": 59,
   "id": "38098b70",
   "metadata": {},
   "outputs": [
    {
     "name": "stdout",
     "output_type": "stream",
     "text": [
      "b'HTTP/1.1 400 Bad Request\\r\\nServer: nginx\\r\\nDate: Thu, 03 Nov 2022 12:24:13 GMT\\r\\nContent-Type: text/html\\r\\nContent-Length: 150\\r\\nConnection: close\\r\\n\\r\\n<html>\\r\\n<head><title>400 Bad Request</title></head>\\r\\n<body>\\r\\n<center><h1>400 Bad Request</h1></center>\\r\\n<hr><center>nginx</center>\\r\\n</body>\\r\\n</html>\\r\\n'\n"
     ]
    }
   ],
   "source": [
    "while True:\n",
    "    data = mysock.recv(512)\n",
    "    if len(data) < 1:\n",
    "        break\n",
    "    print(data)"
   ]
  },
  {
   "cell_type": "code",
   "execution_count": 60,
   "id": "27009757",
   "metadata": {},
   "outputs": [],
   "source": [
    "mysock.close()"
   ]
  },
  {
   "cell_type": "code",
   "execution_count": null,
   "id": "11187a65",
   "metadata": {},
   "outputs": [],
   "source": []
  },
  {
   "cell_type": "code",
   "execution_count": 40,
   "id": "a7a3e414",
   "metadata": {},
   "outputs": [
    {
     "name": "stdout",
     "output_type": "stream",
     "text": [
      "<socket.socket fd=1984, family=AddressFamily.AF_INET, type=SocketKind.SOCK_STREAM, proto=0>\n"
     ]
    }
   ],
   "source": [
    "s = socket.socket(socket.AF_INET, socket.SOCK_STREAM)\n",
    "print(s)"
   ]
  },
  {
   "cell_type": "code",
   "execution_count": 41,
   "id": "fbe91dad",
   "metadata": {},
   "outputs": [
    {
     "name": "stdout",
     "output_type": "stream",
     "text": [
      "151.101.129.140\n"
     ]
    }
   ],
   "source": [
    "server = 'reddit.com'\n",
    "\n",
    "port = 80\n",
    "\n",
    "server_ip = socket.gethostbyname(server)\n",
    "print(server_ip)"
   ]
  },
  {
   "cell_type": "code",
   "execution_count": 42,
   "id": "9c77ec23",
   "metadata": {},
   "outputs": [],
   "source": [
    "request = \"GET / HTTP/1.1\\nHost: \"+server+\"\\n\\n\"\n",
    "s = socket.socket(socket.AF_INET, socket.SOCK_STREAM)\n",
    "s.connect((\"reddit.com\", 80))"
   ]
  },
  {
   "cell_type": "code",
   "execution_count": 44,
   "id": "6dc8bffa",
   "metadata": {},
   "outputs": [
    {
     "name": "stdout",
     "output_type": "stream",
     "text": [
      "b'HTTP/1.1 301 Moved Permanently\\r\\nConnection: close\\r\\nContent-Length: 0\\r\\nRetry-After: 0\\r\\nLocation: https://reddit.com/\\r\\nAccept-Ranges: bytes\\r\\nDate: Thu, 03 Nov 2022 12:13:05 GMT\\r\\nVia: 1.1 varnish\\r\\nX-Content-Type-Options: nosniff\\r\\nX-Frame-Options: SAMEORIGIN\\r\\nX-XSS-Protection: 1; mode=block\\r\\nCache-Control: private, max-age=3600\\r\\nServer: snooserv\\r\\nReport-To: {\"group\": \"w3-reporting-nel\", \"max_age\": 14400, \"include_subdomains\": true,  \"endpoints\": [{ \"url\": \"https://w3-reporting-nel.reddit.com/reports\" }]}, {\"group\": \"w3-reporting\", \"max_age\": 14400, \"include_subdomains\": true, \"endpoints\": [{ \"url\": \"https://w3-reporting.reddit.com/reports\" }]}\\r\\nNEL: {\"report_to\": \"w3-reporting-nel\", \"max_age\": 14400, \"include_subdomains\": false, \"success_fraction\": 0.2, \"failure_fraction\": 0.2}\\r\\n\\r\\n'\n"
     ]
    }
   ],
   "source": [
    "s.send(request.encode())\n",
    "result = s.recv(4096)\n",
    "\n",
    "print(result)"
   ]
  },
  {
   "cell_type": "code",
   "execution_count": 45,
   "id": "4aebcbfc",
   "metadata": {},
   "outputs": [
    {
     "name": "stdout",
     "output_type": "stream",
     "text": [
      "b'HTTP/1.1 301 Moved Permanently\\r\\nConnection: close\\r\\nContent-Length: 0\\r\\nRetry-After: 0\\r\\nLocation: https://reddit.com/\\r\\nAccept-Ranges: bytes\\r\\nDate: Thu, 03 Nov 2022 12:13:05 GMT\\r\\nVia: 1.1 varnish\\r\\nX-Content-Type-Options: nosniff\\r\\nX-Frame-Options: SAMEORIGIN\\r\\nX-XSS-Protection: 1; mode=block\\r\\nCache-Control: private, max-age=3600\\r\\nServer: snooserv\\r\\nReport-To: {\"group\": \"w3-reporting-nel\", \"max_age\": 14400, \"include_subdomains\": true,  \"endpoints\": [{ \"url\": \"https://w3-reporting-nel.reddit.com/reports\" }]}, {\"group\": \"w3-reporting\", \"max_age\": 14400, \"include_subdomains\": true, \"endpoints\": [{ \"url\": \"https://w3-reporting.reddit.com/reports\" }]}\\r\\nNEL: {\"report_to\": \"w3-reporting-nel\", \"max_age\": 14400, \"include_subdomains\": false, \"success_fraction\": 0.2, \"failure_fraction\": 0.2}\\r\\n\\r\\n'\n"
     ]
    }
   ],
   "source": [
    "while (len(result) > 0):\n",
    "    print(result)\n",
    "    result = s.recv(4096)"
   ]
  },
  {
   "cell_type": "code",
   "execution_count": 46,
   "id": "6180c286",
   "metadata": {},
   "outputs": [
    {
     "name": "stdout",
     "output_type": "stream",
     "text": [
      "b''\n"
     ]
    }
   ],
   "source": [
    "print(result)"
   ]
  },
  {
   "cell_type": "code",
   "execution_count": 61,
   "id": "320371e1",
   "metadata": {},
   "outputs": [],
   "source": [
    "import urllib"
   ]
  },
  {
   "cell_type": "code",
   "execution_count": 68,
   "id": "acff9704",
   "metadata": {},
   "outputs": [],
   "source": [
    "data = urllib.request.urlopen('http://www.py4inf.com/code/romeo.txt')"
   ]
  },
  {
   "cell_type": "code",
   "execution_count": 69,
   "id": "1eca6bba",
   "metadata": {},
   "outputs": [
    {
     "name": "stdout",
     "output_type": "stream",
     "text": [
      "b'But soft what light through yonder window breaks\\nIt is the east and Juliet is the sun\\nArise fair sun and kill the envious moon\\nWho is already sick and pale with grief\\n'\n"
     ]
    }
   ],
   "source": [
    "print(data.read())"
   ]
  },
  {
   "cell_type": "code",
   "execution_count": 70,
   "id": "6ce4f1f8",
   "metadata": {},
   "outputs": [],
   "source": [
    "for line in data:\n",
    "    print(line.strip())"
   ]
  },
  {
   "cell_type": "code",
   "execution_count": null,
   "id": "c31a433c",
   "metadata": {},
   "outputs": [],
   "source": []
  },
  {
   "cell_type": "code",
   "execution_count": null,
   "id": "4607e22f",
   "metadata": {},
   "outputs": [],
   "source": []
  },
  {
   "cell_type": "code",
   "execution_count": null,
   "id": "41ff34fb",
   "metadata": {},
   "outputs": [],
   "source": []
  }
 ],
 "metadata": {
  "kernelspec": {
   "display_name": "Python 3",
   "language": "python",
   "name": "python3"
  },
  "language_info": {
   "codemirror_mode": {
    "name": "ipython",
    "version": 3
   },
   "file_extension": ".py",
   "mimetype": "text/x-python",
   "name": "python",
   "nbconvert_exporter": "python",
   "pygments_lexer": "ipython3",
   "version": "3.8.11"
  }
 },
 "nbformat": 4,
 "nbformat_minor": 5
}
