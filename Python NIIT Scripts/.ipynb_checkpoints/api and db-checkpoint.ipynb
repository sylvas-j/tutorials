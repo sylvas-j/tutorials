{
 "cells": [
  {
   "cell_type": "code",
   "execution_count": 1,
   "id": "1c40aa9c",
   "metadata": {},
   "outputs": [],
   "source": [
    "import requests\n",
    "import json\n",
    "import mysql.connector as mysl"
   ]
  },
  {
   "cell_type": "code",
   "execution_count": 2,
   "id": "c2711d53",
   "metadata": {},
   "outputs": [
    {
     "name": "stdout",
     "output_type": "stream",
     "text": [
      "{\"error\":false,\"msg\":\"lagos with population\",\"data\":{\"city\":\"Lagos\",\"country\":\"Nigeria\",\"populationCounts\":[{\"year\":\"1991\",\"value\":\"5195247\",\"sex\":\"Both Sexes\",\"reliabilty\":\"Final figure, complete\"}]}}\n"
     ]
    }
   ],
   "source": [
    "\n",
    "url = \"https://countriesnow.space/api/v0.1/countries/population/cities\"\n",
    "\n",
    "payload = {\"city\": \"lagos\"}\n",
    "headers = {}\n",
    "\n",
    "response = requests.request(\"POST\", url, headers=headers, data=payload)\n",
    "\n",
    "print(response.text)"
   ]
  },
  {
   "cell_type": "code",
   "execution_count": 3,
   "id": "873f3304",
   "metadata": {},
   "outputs": [
    {
     "name": "stdout",
     "output_type": "stream",
     "text": [
      "<class 'dict'>\n"
     ]
    },
    {
     "data": {
      "text/plain": [
       "False"
      ]
     },
     "execution_count": 3,
     "metadata": {},
     "output_type": "execute_result"
    }
   ],
   "source": [
    "data = json.loads(response.text)\n",
    "print(type(data))\n",
    "data['error']"
   ]
  },
  {
   "cell_type": "code",
   "execution_count": 4,
   "id": "2df50b2b",
   "metadata": {},
   "outputs": [
    {
     "ename": "SyntaxError",
     "evalue": "EOL while scanning string literal (<ipython-input-4-ab56aeb6140f>, line 3)",
     "output_type": "error",
     "traceback": [
      "\u001b[1;36m  File \u001b[1;32m\"<ipython-input-4-ab56aeb6140f>\"\u001b[1;36m, line \u001b[1;32m3\u001b[0m\n\u001b[1;33m    for item in data['data]:\u001b[0m\n\u001b[1;37m                            ^\u001b[0m\n\u001b[1;31mSyntaxError\u001b[0m\u001b[1;31m:\u001b[0m EOL while scanning string literal\n"
     ]
    }
   ],
   "source": [
    "# data['data'][0]\n",
    "country = []\n",
    "for item in data['data]:\n",
    "    print(item['country'])\n",
    "    if country.count(item['country']) >= 1:\n",
    "        print('exist')\n",
    "    else:\n",
    "        country.append(item['country'])\n"
   ]
  },
  {
   "cell_type": "code",
   "execution_count": null,
   "id": "cb79abb6",
   "metadata": {},
   "outputs": [],
   "source": [
    "len(country)"
   ]
  },
  {
   "cell_type": "code",
   "execution_count": 5,
   "id": "79b1eb32",
   "metadata": {},
   "outputs": [
    {
     "name": "stdout",
     "output_type": "stream",
     "text": [
      "<mysql.connector.connection_cext.CMySQLConnection object at 0x0000018174F56AC0>\n"
     ]
    }
   ],
   "source": [
    "mydb = mysl.connect(\n",
    "  host=\"localhost\",\n",
    "  user=\"root\",\n",
    "  password=\"\",\n",
    "  database='python_db'\n",
    ")\n",
    "print(mydb) "
   ]
  },
  {
   "cell_type": "code",
   "execution_count": 6,
   "id": "ee8b9b72",
   "metadata": {
    "scrolled": false
   },
   "outputs": [
    {
     "name": "stdout",
     "output_type": "stream",
     "text": [
      "('ecfr_db',)\n",
      "('gubdjour_globalbook',)\n",
      "('gubdjour_journals',)\n",
      "('gubdjournals_db',)\n",
      "('information_schema',)\n",
      "('mysql',)\n",
      "('old_school_boys_db',)\n",
      "('performance_schema',)\n",
      "('phpmyadmin',)\n",
      "('python_db',)\n",
      "('sdv_db',)\n",
      "('sn_rsu_db',)\n",
      "('sn_videos_db',)\n",
      "('test',)\n"
     ]
    }
   ],
   "source": [
    "mycursor = mydb.cursor()\n",
    "\n",
    "mycursor.execute(\"SHOW DATABASES\")\n",
    "\n",
    "for x in mycursor:\n",
    "    print(x) "
   ]
  },
  {
   "cell_type": "code",
   "execution_count": 8,
   "id": "e0744ef6",
   "metadata": {},
   "outputs": [
    {
     "name": "stdout",
     "output_type": "stream",
     "text": [
      "1 record inserted.\n"
     ]
    }
   ],
   "source": [
    "sql = \"INSERT INTO python_table (name) VALUES (%s)\"\n",
    "\n",
    "val = (\"John\",)\n",
    "mycursor.execute(sql, val)\n",
    "\n",
    "mydb.commit()\n",
    "\n",
    "print(mycursor.rowcount, \"record inserted.\")"
   ]
  },
  {
   "cell_type": "code",
   "execution_count": null,
   "id": "638b2ac0",
   "metadata": {},
   "outputs": [],
   "source": []
  },
  {
   "cell_type": "code",
   "execution_count": null,
   "id": "82ced021",
   "metadata": {},
   "outputs": [],
   "source": []
  },
  {
   "cell_type": "code",
   "execution_count": null,
   "id": "55ed920f",
   "metadata": {},
   "outputs": [],
   "source": []
  },
  {
   "cell_type": "code",
   "execution_count": null,
   "id": "1ca8fc78",
   "metadata": {},
   "outputs": [],
   "source": []
  },
  {
   "cell_type": "code",
   "execution_count": null,
   "id": "c0018549",
   "metadata": {},
   "outputs": [],
   "source": []
  }
 ],
 "metadata": {
  "kernelspec": {
   "display_name": "Python 3",
   "language": "python",
   "name": "python3"
  },
  "language_info": {
   "codemirror_mode": {
    "name": "ipython",
    "version": 3
   },
   "file_extension": ".py",
   "mimetype": "text/x-python",
   "name": "python",
   "nbconvert_exporter": "python",
   "pygments_lexer": "ipython3",
   "version": "3.8.11"
  }
 },
 "nbformat": 4,
 "nbformat_minor": 5
}
