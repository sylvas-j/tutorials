{
 "cells": [
  {
   "cell_type": "markdown",
   "id": "0c1b0f5f",
   "metadata": {},
   "source": [
    "# File Handling and Exception"
   ]
  },
  {
   "cell_type": "markdown",
   "id": "32c4d7f9",
   "metadata": {},
   "source": [
    "###  Create, Read, Write, Open Files"
   ]
  },
  {
   "cell_type": "code",
   "execution_count": 11,
   "id": "e11c66d3",
   "metadata": {},
   "outputs": [
    {
     "name": "stdout",
     "output_type": "stream",
     "text": [
      "john\n",
      "\n",
      "james\n",
      "\n",
      "jooe\n"
     ]
    }
   ],
   "source": [
    "f = open('python/first file.txt','r')\n",
    "# print(f.read())\n",
    "# print(f.readline())\n",
    "for line in f:\n",
    "#     print(line)\n",
    "    if line.startswith('j'):\n",
    "        print(line)\n",
    "\n",
    "f.close()"
   ]
  },
  {
   "cell_type": "markdown",
   "id": "c7622a1d",
   "metadata": {},
   "source": [
    "### Writing to files"
   ]
  },
  {
   "cell_type": "code",
   "execution_count": 19,
   "id": "f09fe407",
   "metadata": {},
   "outputs": [],
   "source": [
    "f = open('python/first file.txt','w')\n",
    "# print(f.read())\n",
    "f.write('New Line \\n')\n",
    "f.close()"
   ]
  },
  {
   "cell_type": "code",
   "execution_count": 20,
   "id": "49a606f4",
   "metadata": {},
   "outputs": [
    {
     "name": "stdout",
     "output_type": "stream",
     "text": [
      "New Line \n",
      "\n"
     ]
    }
   ],
   "source": [
    "f = open('python/first file.txt','r')\n",
    "print(f.read())\n",
    "f.close()"
   ]
  },
  {
   "cell_type": "code",
   "execution_count": 21,
   "id": "fce12730",
   "metadata": {},
   "outputs": [
    {
     "name": "stdout",
     "output_type": "stream",
     "text": [
      "Error\n"
     ]
    }
   ],
   "source": [
    "try:\n",
    "    f = open('python/second file.txt','r')\n",
    "    print(f.read())\n",
    "    f.close()\n",
    "except:\n",
    "    print('Error')"
   ]
  },
  {
   "cell_type": "code",
   "execution_count": null,
   "id": "4cfd02e5",
   "metadata": {},
   "outputs": [],
   "source": []
  }
 ],
 "metadata": {
  "kernelspec": {
   "display_name": "Python 3",
   "language": "python",
   "name": "python3"
  },
  "language_info": {
   "codemirror_mode": {
    "name": "ipython",
    "version": 3
   },
   "file_extension": ".py",
   "mimetype": "text/x-python",
   "name": "python",
   "nbconvert_exporter": "python",
   "pygments_lexer": "ipython3",
   "version": "3.8.11"
  }
 },
 "nbformat": 4,
 "nbformat_minor": 5
}
